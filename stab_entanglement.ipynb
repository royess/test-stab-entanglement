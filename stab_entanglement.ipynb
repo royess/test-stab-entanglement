{
 "cells": [
  {
   "cell_type": "markdown",
   "id": "a41f0e50-6539-4eae-991f-4611dd03a27c",
   "metadata": {},
   "source": [
    "Outline:\n",
    "\n",
    "1. Random Clifford circuits.\n",
    "2. Get output stabilizer table, turn it into `QuantumClifford.jl`'s format.\n",
    "3. Get output statevector, calculate entanglement."
   ]
  },
  {
   "cell_type": "markdown",
   "id": "816429aa-95dc-45e4-bb57-95a28c93a263",
   "metadata": {},
   "source": [
    "## An example"
   ]
  },
  {
   "cell_type": "code",
   "execution_count": 31,
   "id": "dc122831-9e48-4de1-8d0f-6bfdb10d7366",
   "metadata": {},
   "outputs": [
    {
     "name": "stdout",
     "output_type": "stream",
     "text": [
      "StabilizerState(StabilizerTable: ['+XX', '+ZZ'])\n"
     ]
    }
   ],
   "source": [
    "from qiskit import QuantumCircuit\n",
    "from qiskit.quantum_info import StabilizerState, Pauli\n",
    "\n",
    "# Bell state generation circuit\n",
    "qc = QuantumCircuit(2)\n",
    "qc.h(0)\n",
    "qc.cx(0,1)\n",
    "stab = StabilizerState(qc)\n",
    "\n",
    "# Print the StabilizerState\n",
    "print(stab)"
   ]
  },
  {
   "cell_type": "code",
   "execution_count": 49,
   "id": "03d8c0eb-cb1b-4caf-b914-18947c4dfc0f",
   "metadata": {},
   "outputs": [
    {
     "data": {
      "text/plain": [
       "qiskit.quantum_info.states.stabilizerstate.StabilizerState"
      ]
     },
     "execution_count": 49,
     "metadata": {},
     "output_type": "execute_result"
    }
   ],
   "source": [
    "type(stab)"
   ]
  },
  {
   "cell_type": "code",
   "execution_count": 52,
   "id": "44d55dc1-6c03-4927-a66c-b415c995db1b",
   "metadata": {},
   "outputs": [
    {
     "data": {
      "text/plain": [
       "StabilizerTable(\n",
       "array([[ True,  True, False, False],\n",
       "       [False, False,  True,  True]]),\n",
       "phase=array([False, False]))"
      ]
     },
     "execution_count": 52,
     "metadata": {},
     "output_type": "execute_result"
    }
   ],
   "source": [
    "stab._data.stabilizer"
   ]
  },
  {
   "cell_type": "code",
   "execution_count": 61,
   "id": "f509b957-566a-413c-b502-dc222b8b35b7",
   "metadata": {},
   "outputs": [
    {
     "data": {
      "text/plain": [
       "['+XX', '+ZZ']"
      ]
     },
     "execution_count": 61,
     "metadata": {},
     "output_type": "execute_result"
    }
   ],
   "source": [
    "eval(f\"{stab._data.stabilizer}\"[17:])"
   ]
  },
  {
   "cell_type": "code",
   "execution_count": 64,
   "id": "c61054a9-cf55-4c4c-bc69-32decce09e6c",
   "metadata": {},
   "outputs": [
    {
     "data": {
      "text/plain": [
       "['+XX', '+ZZ']"
      ]
     },
     "execution_count": 64,
     "metadata": {},
     "output_type": "execute_result"
    }
   ],
   "source": [
    "stab._data.stabilizer.to_labels()"
   ]
  },
  {
   "cell_type": "code",
   "execution_count": 32,
   "id": "a27a46a8-756c-4f3c-ae94-37d3b6a526ff",
   "metadata": {},
   "outputs": [],
   "source": [
    "# Import Aer\n",
    "from qiskit import Aer\n",
    "\n",
    "# Run the quantum circuit on a statevector simulator backend\n",
    "backend = Aer.get_backend('statevector_simulator')"
   ]
  },
  {
   "cell_type": "code",
   "execution_count": 33,
   "id": "0774a0b9-a94e-4e69-b1d1-78b6de5652b3",
   "metadata": {},
   "outputs": [],
   "source": [
    "# Create a Quantum Program for execution\n",
    "job = backend.run(qc)"
   ]
  },
  {
   "cell_type": "code",
   "execution_count": 34,
   "id": "7c2cb1c3-b4a6-4286-a20d-d73f2a54ab88",
   "metadata": {},
   "outputs": [],
   "source": [
    "result = job.result()"
   ]
  },
  {
   "cell_type": "code",
   "execution_count": 35,
   "id": "c1b6c579-4799-41af-bb5b-acd392ba54d0",
   "metadata": {},
   "outputs": [
    {
     "name": "stdout",
     "output_type": "stream",
     "text": [
      "[0.70710678+0.j 0.        +0.j 0.        +0.j 0.70710678+0.j]\n"
     ]
    }
   ],
   "source": [
    "outputstate = result.get_statevector(qc)\n",
    "print(outputstate) # remind the order"
   ]
  },
  {
   "cell_type": "code",
   "execution_count": 36,
   "id": "15793f34-629b-4093-bb44-218fd39b764b",
   "metadata": {},
   "outputs": [],
   "source": [
    "from qiskit.quantum_info import Statevector, entropy, partial_trace"
   ]
  },
  {
   "cell_type": "code",
   "execution_count": 65,
   "id": "6320a352-7da0-494d-b7cd-04ae3d420306",
   "metadata": {},
   "outputs": [
    {
     "data": {
      "text/plain": [
       "1.0"
      ]
     },
     "execution_count": 65,
     "metadata": {},
     "output_type": "execute_result"
    }
   ],
   "source": [
    "entropy(partial_trace(Statevector(outputstate), range(0,1)))"
   ]
  },
  {
   "cell_type": "markdown",
   "id": "597a5233-1670-4ce3-b3bc-759552008adf",
   "metadata": {},
   "source": [
    "## Random Clifford"
   ]
  },
  {
   "cell_type": "code",
   "execution_count": 39,
   "id": "2f21e22c-06d2-420a-9994-d4f6a5aa496e",
   "metadata": {},
   "outputs": [],
   "source": [
    "from qiskit.quantum_info import random_clifford"
   ]
  },
  {
   "cell_type": "code",
   "execution_count": 42,
   "id": "bd82582a-a277-4803-b961-6774fb078d35",
   "metadata": {},
   "outputs": [
    {
     "name": "stdout",
     "output_type": "stream",
     "text": [
      "     ┌───┐┌───┐┌───┐     ┌───┐┌───┐┌───┐┌───┐                    ┌───┐┌───┐»\n",
      "q_0: ┤ S ├┤ H ├┤ S ├──X──┤ X ├┤ S ├┤ H ├┤ S ├─────────────────■──┤ X ├┤ X ├»\n",
      "     └───┘└───┘└───┘  │  └─┬─┘└───┘└───┘├───┤┌───┐     ┌───┐  │  └─┬─┘└─┬─┘»\n",
      "q_1: ─────────────────X────■────■───────┤ X ├┤ X ├──■──┤ Z ├──┼────┼────┼──»\n",
      "     ┌───┐                    ┌─┴─┐┌───┐└─┬─┘└─┬─┘  │  └───┘  │    │    │  »\n",
      "q_2: ┤ S ├────────────────────┤ X ├┤ H ├──■────┼────┼─────────┼────■────┼──»\n",
      "     ├───┤          ┌───┐     └───┘└───┘       │    │  ┌───┐  │         │  »\n",
      "q_3: ┤ H ├──────────┤ X ├──────────────────────■────┼──┤ H ├──┼─────────■──»\n",
      "     ├───┤┌───┐┌───┐└─┬─┘                         ┌─┴─┐└───┘┌─┴─┐┌───┐┌───┐»\n",
      "q_4: ┤ S ├┤ H ├┤ S ├──■───────────────────────────┤ X ├─────┤ X ├┤ H ├┤ S ├»\n",
      "     └───┘└───┘└───┘                              └───┘     └───┘└───┘└───┘»\n",
      "«                                        \n",
      "«q_0: ───────────────────────────────────\n",
      "«                                        \n",
      "«q_1: ───────────────────────────────────\n",
      "«     ┌───┐┌───┐                    ┌───┐\n",
      "«q_2: ┤ S ├┤ X ├───────■─────────■──┤ X ├\n",
      "«     ├───┤└─┬─┘┌───┐┌─┴─┐       │  ├───┤\n",
      "«q_3: ┤ H ├──┼──┤ S ├┤ X ├──■────┼──┤ X ├\n",
      "«     └───┘  │  └───┘└───┘┌─┴─┐┌─┴─┐├───┤\n",
      "«q_4: ───────■────────────┤ X ├┤ X ├┤ Z ├\n",
      "«                         └───┘└───┘└───┘\n"
     ]
    }
   ],
   "source": [
    "print(random_clifford(5).to_circuit())"
   ]
  },
  {
   "cell_type": "code",
   "execution_count": null,
   "id": "d01a7a68-04fb-4c3e-9102-cac58bfe797a",
   "metadata": {},
   "outputs": [],
   "source": []
  }
 ],
 "metadata": {
  "kernelspec": {
   "display_name": "Python 3 (ipykernel)",
   "language": "python",
   "name": "python3"
  },
  "language_info": {
   "codemirror_mode": {
    "name": "ipython",
    "version": 3
   },
   "file_extension": ".py",
   "mimetype": "text/x-python",
   "name": "python",
   "nbconvert_exporter": "python",
   "pygments_lexer": "ipython3",
   "version": "3.9.7"
  }
 },
 "nbformat": 4,
 "nbformat_minor": 5
}
