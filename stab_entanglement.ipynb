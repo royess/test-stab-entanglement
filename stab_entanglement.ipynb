{
 "cells": [
  {
   "cell_type": "code",
   "execution_count": 1,
   "id": "00eb1806-1059-454f-bdcf-b4d73bcc3345",
   "metadata": {},
   "outputs": [],
   "source": [
    "import qiskit"
   ]
  },
  {
   "cell_type": "markdown",
   "id": "a41f0e50-6539-4eae-991f-4611dd03a27c",
   "metadata": {},
   "source": [
    "Outline:\n",
    "\n",
    "1. Random Clifford circuits.\n",
    "2. Get output stabilizer table, turn it into `QuantumClifford.jl`'s format.\n",
    "3. Get output statevector, calculate entanglement."
   ]
  },
  {
   "cell_type": "code",
   "execution_count": null,
   "id": "10d492a6-95a8-4a15-b474-e8795190c49d",
   "metadata": {},
   "outputs": [],
   "source": []
  }
 ],
 "metadata": {
  "kernelspec": {
   "display_name": "Python 3 (ipykernel)",
   "language": "python",
   "name": "python3"
  },
  "language_info": {
   "codemirror_mode": {
    "name": "ipython",
    "version": 3
   },
   "file_extension": ".py",
   "mimetype": "text/x-python",
   "name": "python",
   "nbconvert_exporter": "python",
   "pygments_lexer": "ipython3",
   "version": "3.9.7"
  }
 },
 "nbformat": 4,
 "nbformat_minor": 5
}
